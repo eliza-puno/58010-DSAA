{
  "nbformat": 4,
  "nbformat_minor": 0,
  "metadata": {
    "colab": {
      "provenance": [],
      "authorship_tag": "ABX9TyNZxlw9l79kSKZFuQdHyTr0",
      "include_colab_link": true
    },
    "kernelspec": {
      "name": "python3",
      "display_name": "Python 3"
    },
    "language_info": {
      "name": "python"
    }
  },
  "cells": [
    {
      "cell_type": "markdown",
      "metadata": {
        "id": "view-in-github",
        "colab_type": "text"
      },
      "source": [
        "<a href=\"https://colab.research.google.com/github/eliza-puno/58010-DSAA/blob/main/Lab_7.ipynb\" target=\"_parent\"><img src=\"https://colab.research.google.com/assets/colab-badge.svg\" alt=\"Open In Colab\"/></a>"
      ]
    },
    {
      "cell_type": "code",
      "execution_count": 2,
      "metadata": {
        "id": "UldCmWvEml8h",
        "colab": {
          "base_uri": "https://localhost:8080/"
        },
        "outputId": "18a957b9-861e-4fc6-b59d-4b71fe27e70c"
      },
      "outputs": [
        {
          "output_type": "stream",
          "name": "stdout",
          "text": [
            "Prime Numbers:\n",
            "2 -› 3 -› 5 -› 7 -› 11 -› 13 -› 17 -› 19 -› None\n",
            "Head: 2\n",
            "Tail: 19\n"
          ]
        }
      ],
      "source": [
        "class Node:\n",
        "    def __init__(self, data):\n",
        "        self.data = data\n",
        "        self.next = None\n",
        "\n",
        "    def isPrime(self, n):\n",
        "        if n <= 1:\n",
        "            return False\n",
        "        if n <= 3:\n",
        "            return True\n",
        "        if n % 2 == 0 or n % 3 == 0:\n",
        "            return False\n",
        "        i = 5\n",
        "        while i * i <= n:\n",
        "            if n % i == 0 or n % (i + 2) == 0:\n",
        "                return False\n",
        "            i += 6\n",
        "        return True\n",
        "\n",
        "def create_prime_linked_list(limit):\n",
        "    head = None\n",
        "    tail = None\n",
        "    for num in range(2, limit):\n",
        "        if Node(num).isPrime(num):  # Pass 'num' as 'data' when creating Node instance\n",
        "            new_node = Node(num)\n",
        "            if not head:\n",
        "                head = new_node\n",
        "                tail = new_node\n",
        "            else:\n",
        "                tail.next = new_node\n",
        "                tail = new_node\n",
        "    return head, tail\n",
        "\n",
        "def display_linked_list(head):\n",
        "    current = head\n",
        "    while current:\n",
        "        print(current.data, end=\" -› \")\n",
        "        current = current.next\n",
        "    print(\"None\")\n",
        "\n",
        "if __name__ == \"__main__\":\n",
        "    limit = 20\n",
        "    head, tail = create_prime_linked_list(limit)\n",
        "    print(\"Prime Numbers:\")\n",
        "    display_linked_list(head)\n",
        "    if head:\n",
        "        print(f\"Head: {head.data}\")\n",
        "        print(f\"Tail: {tail.data}\")\n",
        "    else:\n",
        "        print(\"The linked list is empty.\")\n"
      ]
    }
  ]
}