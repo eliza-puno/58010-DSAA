{
  "nbformat": 4,
  "nbformat_minor": 0,
  "metadata": {
    "colab": {
      "provenance": [],
      "include_colab_link": true
    },
    "kernelspec": {
      "name": "python3",
      "display_name": "Python 3"
    },
    "language_info": {
      "name": "python"
    }
  },
  "cells": [
    {
      "cell_type": "markdown",
      "metadata": {
        "id": "view-in-github",
        "colab_type": "text"
      },
      "source": [
        "<a href=\"https://colab.research.google.com/github/eliza-puno/58010-DSAA/blob/main/DSA_LAB_10.ipynb\" target=\"_parent\"><img src=\"https://colab.research.google.com/assets/colab-badge.svg\" alt=\"Open In Colab\"/></a>"
      ]
    },
    {
      "cell_type": "code",
      "execution_count": null,
      "metadata": {
        "colab": {
          "base_uri": "https://localhost:8080/"
        },
        "id": "B54hhD686WDx",
        "outputId": "ccb9ed13-2dd9-4005-ea52-d5dd7a31c936"
      },
      "outputs": [
        {
          "output_type": "stream",
          "name": "stdout",
          "text": [
            "Data: 1, Pre-order: 1, In-order: 4, Post-order: 5\n",
            "Data: 2, Pre-order: 2, In-order: 2, Post-order: 3\n",
            "Data: 4, Pre-order: 3, In-order: 1, Post-order: 1\n",
            "Data: 5, Pre-order: 6, In-order: 3, Post-order: 2\n",
            "Data: 3, Pre-order: 9, In-order: 5, Post-order: 4\n"
          ]
        }
      ],
      "source": [
        "class BinaryTreeNode:\n",
        "    def __init__(self, data):\n",
        "        self.data = data\n",
        "        self.left = None\n",
        "        self.right = None\n",
        "        self.pre_order_number = None\n",
        "        self.in_order_number = None\n",
        "        self.post_order_number = None\n",
        "\n",
        "class BinaryTree:\n",
        "    def __init__(self, root):\n",
        "        self.root = BinaryTreeNode(root)\n",
        "\n",
        "    def pre_order_number(self):\n",
        "        self._pre_order_number(self.root)\n",
        "\n",
        "    def _pre_order_number(self, node, count=1):\n",
        "        if node:\n",
        "            node.pre_order_number = count\n",
        "            count = self._pre_order_number(node.left, count + 1)\n",
        "            count = self._pre_order_number(node.right, count + 1)\n",
        "        return count\n",
        "\n",
        "    def in_order_number(self):\n",
        "        self._in_order_number(self.root)\n",
        "\n",
        "    def _in_order_number(self, node, count=1):\n",
        "        if node:\n",
        "            count = self._in_order_number(node.left, count)\n",
        "            node.in_order_number = count\n",
        "            count += 1\n",
        "            count = self._in_order_number(node.right, count)\n",
        "        return count\n",
        "\n",
        "    def post_order_number(self):\n",
        "        self._post_order_number(self.root)\n",
        "\n",
        "    def _post_order_number(self, node, count=1):\n",
        "        if node:\n",
        "            count = self._post_order_number(node.left, count)\n",
        "            count = self._post_order_number(node.right, count)\n",
        "            node.post_order_number = count\n",
        "            count += 1\n",
        "        return count\n",
        "\n",
        "tree = BinaryTree(1)\n",
        "tree.root.left = BinaryTreeNode(2)\n",
        "tree.root.right = BinaryTreeNode(3)\n",
        "tree.root.left.left = BinaryTreeNode(4)\n",
        "tree.root.left.right = BinaryTreeNode(5)\n",
        "\n",
        "tree.pre_order_number()\n",
        "tree.in_order_number()\n",
        "tree.post_order_number()\n",
        "\n",
        "def display_node_info(node):\n",
        "    return f\"Data: {node.data}, Pre-order: {node.pre_order_number}, In-order: {node.in_order_number}, Post-order: {node.post_order_number}\"\n",
        "\n",
        "def display_tree_info(tree):\n",
        "    def traverse(node):\n",
        "        if node:\n",
        "            print(display_node_info(node))\n",
        "            traverse(node.left)\n",
        "            traverse(node.right)\n",
        "\n",
        "    traverse(tree.root)\n",
        "\n",
        "display_tree_info(tree)\n"
      ]
    }
  ]
}