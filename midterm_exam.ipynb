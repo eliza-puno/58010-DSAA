{
  "nbformat": 4,
  "nbformat_minor": 0,
  "metadata": {
    "colab": {
      "provenance": [],
      "authorship_tag": "ABX9TyPBbfC/IuJct9+3Lc6KQrjQ",
      "include_colab_link": true
    },
    "kernelspec": {
      "name": "python3",
      "display_name": "Python 3"
    },
    "language_info": {
      "name": "python"
    }
  },
  "cells": [
    {
      "cell_type": "markdown",
      "metadata": {
        "id": "view-in-github",
        "colab_type": "text"
      },
      "source": [
        "<a href=\"https://colab.research.google.com/github/eliza-puno/58010-DSAA/blob/main/midterm_exam.ipynb\" target=\"_parent\"><img src=\"https://colab.research.google.com/assets/colab-badge.svg\" alt=\"Open In Colab\"/></a>"
      ]
    },
    {
      "cell_type": "code",
      "execution_count": 6,
      "metadata": {
        "colab": {
          "base_uri": "https://localhost:8080/"
        },
        "id": "pjM6_Y93i52m",
        "outputId": "b3c820d9-331f-41d7-f29c-3352c99ef4a8"
      },
      "outputs": [
        {
          "output_type": "stream",
          "name": "stdout",
          "text": [
            "['a', 'b', 'c', 'd', 'e', 'f', 'g', 'i', 'k', 'j', 'l', 'm', 'n', 'o', 'p']\n"
          ]
        }
      ],
      "source": [
        "#Display Graph Vertices\n",
        "\n",
        "class graph:\n",
        "   def __init__(self,gdict=None):\n",
        "      if gdict is None:\n",
        "         gdict = []\n",
        "      self.gdict = gdict\n",
        "\n",
        "   def getVertices(self):\n",
        "      return list(self.gdict.keys())\n",
        "\n",
        "graph_elements = {\n",
        "   \"a\" : [\"b\"],\n",
        "   \"b\" : [\"c\", \"d\", \"e\", \"f\"],\n",
        "   \"c\" : [\"d\", \"e\", \"f\", \"i\", \"m\"],\n",
        "   \"d\" : [\"k\", \"l\"],\n",
        "   \"e\" : [\"n\"],\n",
        "   \"f\" : [\"g\", \"i\"],\n",
        "   \"g\" : [\"i\", \"j\"],\n",
        "   \"i\" : [\"j\", \"k\"],\n",
        "   \"k\" : [],\n",
        "   \"j\" : [\"k\"],\n",
        "   \"l\" : [\"m\", \"p\"],\n",
        "   \"m\" : [\"n\", \"o\", \"p\"],\n",
        "   \"n\" : [\"o\"],\n",
        "   \"o\" : [\"p\"],\n",
        "   \"p\" : []\n",
        "\n",
        "}\n",
        "g = graph(graph_elements)\n",
        "print(g.getVertices())"
      ]
    },
    {
      "cell_type": "code",
      "source": [
        "#Display Graph Edges\n",
        "\n",
        "class graph:\n",
        "   def __init__(self,gdict=None):\n",
        "      if gdict is None:\n",
        "         gdict = {}\n",
        "      self.gdict = gdict\n",
        "\n",
        "   def edges(self):\n",
        "      return self.findedges()\n",
        "\n",
        "   def findedges(self):\n",
        "      edgename = []\n",
        "      for vrtx in self.gdict:\n",
        "         for nxtvrtx in self.gdict[vrtx]:\n",
        "            if {nxtvrtx, vrtx} not in edgename:\n",
        "               edgename.append({vrtx, nxtvrtx})\n",
        "      return edgename\n",
        "\n",
        "graph_elements = {\n",
        "   \"a\" : [\"b\"],\n",
        "   \"b\" : [\"c\", \"d\", \"e\", \"f\"],\n",
        "   \"c\" : [\"d\", \"e\", \"f\", \"i\", \"m\"],\n",
        "   \"d\" : [\"k\", \"l\"],\n",
        "   \"e\" : [\"n\"],\n",
        "   \"f\" : [\"g\", \"i\"],\n",
        "   \"g\" : [\"i\", \"j\"],\n",
        "   \"i\" : [\"j\", \"k\"],\n",
        "   \"k\" : [],\n",
        "   \"j\" : [\"k\"],\n",
        "   \"l\" : [\"m\", \"p\"],\n",
        "   \"m\" : [\"n\", \"o\", \"p\"],\n",
        "   \"n\" : [\"o\"],\n",
        "   \"o\" : [\"p\"],\n",
        "   \"p\" : []\n",
        "\n",
        "}\n",
        "g = graph(graph_elements)\n",
        "print(g.edges())"
      ],
      "metadata": {
        "colab": {
          "base_uri": "https://localhost:8080/"
        },
        "id": "HVxrYciPjMra",
        "outputId": "ca7ade7a-7652-483b-dc31-29d9dacc555a"
      },
      "execution_count": 7,
      "outputs": [
        {
          "output_type": "stream",
          "name": "stdout",
          "text": [
            "[{'b', 'a'}, {'b', 'c'}, {'d', 'b'}, {'e', 'b'}, {'f', 'b'}, {'d', 'c'}, {'e', 'c'}, {'f', 'c'}, {'i', 'c'}, {'m', 'c'}, {'d', 'k'}, {'d', 'l'}, {'n', 'e'}, {'f', 'g'}, {'f', 'i'}, {'g', 'i'}, {'g', 'j'}, {'i', 'j'}, {'i', 'k'}, {'k', 'j'}, {'m', 'l'}, {'l', 'p'}, {'m', 'n'}, {'m', 'o'}, {'m', 'p'}, {'n', 'o'}, {'o', 'p'}]\n"
          ]
        }
      ]
    }
  ]
}