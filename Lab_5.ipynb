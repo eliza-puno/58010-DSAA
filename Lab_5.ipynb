{
  "nbformat": 4,
  "nbformat_minor": 0,
  "metadata": {
    "colab": {
      "provenance": [],
      "authorship_tag": "ABX9TyN9peY2sVt2OTRmM2vAeQuh",
      "include_colab_link": true
    },
    "kernelspec": {
      "name": "python3",
      "display_name": "Python 3"
    },
    "language_info": {
      "name": "python"
    }
  },
  "cells": [
    {
      "cell_type": "markdown",
      "metadata": {
        "id": "view-in-github",
        "colab_type": "text"
      },
      "source": [
        "<a href=\"https://colab.research.google.com/github/eliza-puno/58010-DSAA/blob/main/Lab_5.ipynb\" target=\"_parent\"><img src=\"https://colab.research.google.com/assets/colab-badge.svg\" alt=\"Open In Colab\"/></a>"
      ]
    },
    {
      "cell_type": "code",
      "execution_count": 4,
      "metadata": {
        "colab": {
          "base_uri": "https://localhost:8080/"
        },
        "id": "jSMTODcMTob-",
        "outputId": "c9b7ee15-43fd-4ad0-be81-b20320b1f188"
      },
      "outputs": [
        {
          "output_type": "stream",
          "name": "stdout",
          "text": [
            "Original array: array('i', [1, 2, 3, 4, 5, 6, 7, 8, 9, 10])\n",
            "Array after appending: array('i', [1, 2, 3, 4, 5, 6, 7, 8, 9, 10, 11])\n"
          ]
        }
      ],
      "source": [
        "#append\n",
        "#Importing array module\n",
        "from array import array\n",
        "\n",
        "numbers = array('i', [1, 2, 3, 4, 5, 6, 7, 8, 9, 10])\n",
        "\n",
        "print(\"Original array:\", numbers)\n",
        "\n",
        "new_item = 11\n",
        "numbers.append(new_item)\n",
        "\n",
        "print(\"Array after appending:\", numbers)"
      ]
    },
    {
      "cell_type": "code",
      "source": [
        "#insert\n",
        "# Importing array module\n",
        "from array import array\n",
        "\n",
        "numbers = array('i', [1, 2, 3, 4, 5, 6, 7, 8, 9, 10])\n",
        "\n",
        "print(\"Original array:\", numbers)\n",
        "\n",
        "new_item = 11\n",
        "index_to_insert = 1\n",
        "numbers.insert(index_to_insert, new_item)\n",
        "\n",
        "print(\"Array after insertion:\", numbers)"
      ],
      "metadata": {
        "colab": {
          "base_uri": "https://localhost:8080/"
        },
        "id": "P1dORcYfUTdR",
        "outputId": "542e9419-ba6a-4c87-e289-729b3bb8b4e4"
      },
      "execution_count": 5,
      "outputs": [
        {
          "output_type": "stream",
          "name": "stdout",
          "text": [
            "Original array: array('i', [1, 2, 3, 4, 5, 6, 7, 8, 9, 10])\n",
            "Array after insertion: array('i', [1, 11, 2, 3, 4, 5, 6, 7, 8, 9, 10])\n"
          ]
        }
      ]
    },
    {
      "cell_type": "code",
      "source": [
        "#reverse\n",
        "\n",
        "# Importing array module\n",
        "from array import array\n",
        "\n",
        "numbers = array('i', [5, 4, 3, 2, 1])\n",
        "\n",
        "print(\"Original array:\", numbers)\n",
        "\n",
        "numbers.reverse()\n",
        "\n",
        "print(\"Reversed array:\", numbers)"
      ],
      "metadata": {
        "colab": {
          "base_uri": "https://localhost:8080/"
        },
        "id": "4B0IaiW6UmZt",
        "outputId": "589a5c93-f974-45f0-a8b6-a299011436bf"
      },
      "execution_count": 6,
      "outputs": [
        {
          "output_type": "stream",
          "name": "stdout",
          "text": [
            "Original array: array('i', [5, 4, 3, 2, 1])\n",
            "Reversed array: array('i', [1, 2, 3, 4, 5])\n"
          ]
        }
      ]
    },
    {
      "cell_type": "code",
      "source": [
        "#length\n",
        "\n",
        "# Importing array module\n",
        "from array import array\n",
        "\n",
        "numbers = array('i', [5, 4, 3, 2, 1])\n",
        "\n",
        "print(\"Original array:\", numbers)\n",
        "\n",
        "array_length = len(numbers)\n",
        "\n",
        "print(\"Length of the array:\", array_length)"
      ],
      "metadata": {
        "colab": {
          "base_uri": "https://localhost:8080/"
        },
        "id": "N5Mjd-cKUgQs",
        "outputId": "e3b74d8a-3510-4550-84d7-cedab79ba66d"
      },
      "execution_count": 7,
      "outputs": [
        {
          "output_type": "stream",
          "name": "stdout",
          "text": [
            "Original array: array('i', [5, 4, 3, 2, 1])\n",
            "Length of the array: 5\n"
          ]
        }
      ]
    }
  ]
}