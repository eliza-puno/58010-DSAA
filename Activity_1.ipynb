{
  "nbformat": 4,
  "nbformat_minor": 0,
  "metadata": {
    "colab": {
      "provenance": [],
      "authorship_tag": "ABX9TyN5D0hHz3q5JlvpAIVHB8Mw",
      "include_colab_link": true
    },
    "kernelspec": {
      "name": "python3",
      "display_name": "Python 3"
    },
    "language_info": {
      "name": "python"
    }
  },
  "cells": [
    {
      "cell_type": "markdown",
      "metadata": {
        "id": "view-in-github",
        "colab_type": "text"
      },
      "source": [
        "<a href=\"https://colab.research.google.com/github/eliza-puno/58010-DSAA/blob/main/Activity_1.ipynb\" target=\"_parent\"><img src=\"https://colab.research.google.com/assets/colab-badge.svg\" alt=\"Open In Colab\"/></a>"
      ]
    },
    {
      "cell_type": "code",
      "execution_count": 34,
      "metadata": {
        "colab": {
          "base_uri": "https://localhost:8080/"
        },
        "id": "QZhIQQuw32VA",
        "outputId": "e351b24e-403d-4452-c050-1c5e99219c3e"
      },
      "outputs": [
        {
          "output_type": "stream",
          "name": "stdout",
          "text": [
            "These are the array items:  [2, 4, 6, 8, 10, 12, 14, 16, 18, 20]\n",
            "Showing the individual elements:\n",
            "The Element at index 0 is 2\n",
            "The Element at index 1 is 4\n",
            "The Element at index 2 is 6\n",
            "The Element at index 3 is 8\n",
            "The Element at index 4 is 10\n",
            "The Element at index 5 is 12\n",
            "The Element at index 6 is 14\n",
            "The Element at index 7 is 16\n",
            "The Element at index 8 is 18\n",
            "The Element at index 9 is 20\n",
            "The Sum of array elements: 110\n"
          ]
        }
      ],
      "source": [
        "#1. Write a Python program to create an array of 10 integers and display the array items. Access individual elements through indexes and compute for the sum.\n",
        "\n",
        "\n",
        "int_array = [2, 4, 6, 8, 10, 12, 14, 16, 18, 20]\n",
        "\n",
        "\n",
        "print(\"These are the array items: \", int_array)\n",
        "\n",
        "print(\"Showing the individual elements:\")\n",
        "for i in range(len(int_array)):\n",
        "    print(f\"The Element at index {i} is {int_array[i]}\")\n",
        "\n",
        "array_sum = sum(int_array)\n",
        "print(\"The Sum of array elements:\", array_sum)"
      ]
    },
    {
      "cell_type": "code",
      "source": [
        "#2. Write a Python program to append a new item to the end of the array. Original array: numbers = [1, 2, 3, 4, 5, 6, 7, 8, 9, 10]\n",
        "\n",
        "num = [1, 2, 3, 4, 5, 6, 7, 8, 9, 10]\n",
        "\n",
        "new_item = 11\n",
        "num.append(new_item)\n",
        "\n",
        "print(\"Original array numbers:\", num)"
      ],
      "metadata": {
        "colab": {
          "base_uri": "https://localhost:8080/"
        },
        "id": "D-dclWX1Aj65",
        "outputId": "dc866457-8fb9-4312-8192-96aa33459e63"
      },
      "execution_count": 30,
      "outputs": [
        {
          "output_type": "stream",
          "name": "stdout",
          "text": [
            "Original array numbers: [1, 2, 3, 4, 5, 6, 7, 8, 9, 10, 11]\n"
          ]
        }
      ]
    },
    {
      "cell_type": "code",
      "source": [
        "#3. Write a Python program to insert a new item before the second element in an existing array. Original array: numbers = [1, 2, 3, 4, 5, 6, 7, 8, 9, 10]\n",
        "\n",
        "num = [1, 2, 3, 4, 5, 6, 7, 8, 9, 10]\n",
        "\n",
        "new_item = 69\n",
        "insert_index = 1\n",
        "num.insert(insert_index, new_item)\n",
        "\n",
        "print(num)\n"
      ],
      "metadata": {
        "colab": {
          "base_uri": "https://localhost:8080/"
        },
        "id": "kOl96NjtBth4",
        "outputId": "de545a4f-6a03-4900-c66b-96a00bf1321e"
      },
      "execution_count": 35,
      "outputs": [
        {
          "output_type": "stream",
          "name": "stdout",
          "text": [
            "[1, 69, 2, 3, 4, 5, 6, 7, 8, 9, 10]\n"
          ]
        }
      ]
    },
    {
      "cell_type": "code",
      "source": [
        "#4. Write a Python program to reverse the order of the items in the array.Original array: numbers = [5, 4, 3, 2, 1]\n",
        "\n",
        "num = [5, 4, 3, 2, 1]\n",
        "\n",
        "num.reverse()\n",
        "\n",
        "print(\"Reversed array:\", num)"
      ],
      "metadata": {
        "colab": {
          "base_uri": "https://localhost:8080/"
        },
        "id": "XYfSgaeECesn",
        "outputId": "668b5635-b82e-48be-847c-4e276651eeac"
      },
      "execution_count": 36,
      "outputs": [
        {
          "output_type": "stream",
          "name": "stdout",
          "text": [
            "Reversed array: [1, 2, 3, 4, 5]\n"
          ]
        }
      ]
    },
    {
      "cell_type": "code",
      "source": [
        "#5. Write a Python program to get the length of the array. Original array: numbers = [5, 4, 3, 2, 1]\n",
        "\n",
        "num = [5, 4, 3, 2, 1]\n",
        "\n",
        "x = len(num)\n",
        "\n",
        "print(x)"
      ],
      "metadata": {
        "colab": {
          "base_uri": "https://localhost:8080/"
        },
        "id": "MqqW4hoZC97-",
        "outputId": "5f1d145c-13a9-4a04-bb84-2ec22a8b9d9b"
      },
      "execution_count": 37,
      "outputs": [
        {
          "output_type": "stream",
          "name": "stdout",
          "text": [
            "5\n"
          ]
        }
      ]
    }
  ]
}