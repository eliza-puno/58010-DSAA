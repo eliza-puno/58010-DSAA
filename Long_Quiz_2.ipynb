{
  "nbformat": 4,
  "nbformat_minor": 0,
  "metadata": {
    "colab": {
      "provenance": [],
      "authorship_tag": "ABX9TyMUqJ2MGXr/69ILkrAAhjgB",
      "include_colab_link": true
    },
    "kernelspec": {
      "name": "python3",
      "display_name": "Python 3"
    },
    "language_info": {
      "name": "python"
    }
  },
  "cells": [
    {
      "cell_type": "markdown",
      "metadata": {
        "id": "view-in-github",
        "colab_type": "text"
      },
      "source": [
        "<a href=\"https://colab.research.google.com/github/eliza-puno/58010-DSAA/blob/main/Long_Quiz_2.ipynb\" target=\"_parent\"><img src=\"https://colab.research.google.com/assets/colab-badge.svg\" alt=\"Open In Colab\"/></a>"
      ]
    },
    {
      "cell_type": "code",
      "execution_count": 3,
      "metadata": {
        "colab": {
          "base_uri": "https://localhost:8080/"
        },
        "id": "pVkjBkhUH6t0",
        "outputId": "52063d2d-fb3e-4ce7-b11d-95d501eebc2a"
      },
      "outputs": [
        {
          "output_type": "stream",
          "name": "stdout",
          "text": [
            "[{'i', 'e'}, {'j', 'e'}, {'k', 'e'}, {'m', 'e'}, {'f', 'i'}, {'f', 'j'}, {'f', 'k'}, {'f', 'p'}, {'h', 'i'}, {'h', 'j'}, {'h', 'k'}]\n"
          ]
        }
      ],
      "source": [
        "#Display Graph Edges\n",
        "\n",
        "class graph:\n",
        "   def __init__(self,gdict=None):\n",
        "      if gdict is None:\n",
        "         gdict = {}\n",
        "      self.gdict = gdict\n",
        "\n",
        "   def edges(self):\n",
        "      return self.findedges()\n",
        "\n",
        "   def findedges(self):\n",
        "      edgename = []\n",
        "      for vrtx in self.gdict:\n",
        "         for nxtvrtx in self.gdict[vrtx]:\n",
        "            if {nxtvrtx, vrtx} not in edgename:\n",
        "               edgename.append({vrtx, nxtvrtx})\n",
        "      return edgename\n",
        "\n",
        "graph_elements = {\n",
        "   \"e\" : [\"i\",\"j\", \"k\", \"m\"],\n",
        "   \"f\" : [\"i\", \"j\", \"k\", \"p\"],\n",
        "   \"h\" : [\"i\", \"j\", \"k\"],\n",
        "   \"i\" : [\"e\", \"f\", \"h\"],\n",
        "   \"j\" : [\"e\", \"f\", \"h\"],\n",
        "   \"k\" : [\"e\", \"f\", \"h\"],\n",
        "   \"m\" : [\"e\"],\n",
        "   \"p\" : [\"f\"]\n",
        "\n",
        "}\n",
        "g = graph(graph_elements)\n",
        "print(g.edges())"
      ]
    },
    {
      "cell_type": "code",
      "source": [
        "#Display Graph Vertices\n",
        "\n",
        "class graph:\n",
        "   def __init__(self,gdict=None):\n",
        "      if gdict is None:\n",
        "         gdict = []\n",
        "      self.gdict = gdict\n",
        "\n",
        "   def getVertices(self):\n",
        "      return list(self.gdict.keys())\n",
        "\n",
        "graph_elements = {\n",
        "   \"e\" : [\"i\",\"j\", \"k\", \"m\"],\n",
        "   \"f\" : [\"i\", \"j\", \"k\", \"p\"],\n",
        "   \"h\" : [\"i\", \"j\", \"k\"],\n",
        "   \"i\" : [\"e\", \"f\", \"h\"],\n",
        "   \"j\" : [\"e\", \"f\", \"h\"],\n",
        "   \"k\" : [\"e\", \"f\", \"h\"],\n",
        "   \"m\" : [\"e\"],\n",
        "   \"p\" : [\"f\"]\n",
        "\n",
        "}\n",
        "g = graph(graph_elements)\n",
        "print(g.getVertices())"
      ],
      "metadata": {
        "colab": {
          "base_uri": "https://localhost:8080/"
        },
        "id": "hQSUZvFEUjAo",
        "outputId": "1fb9b6a9-fffe-486d-c93d-ae6f39480478"
      },
      "execution_count": 4,
      "outputs": [
        {
          "output_type": "stream",
          "name": "stdout",
          "text": [
            "['e', 'f', 'h', 'i', 'j', 'k', 'm', 'p']\n"
          ]
        }
      ]
    }
  ]
}