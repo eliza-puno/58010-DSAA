{
  "nbformat": 4,
  "nbformat_minor": 0,
  "metadata": {
    "colab": {
      "provenance": [],
      "authorship_tag": "ABX9TyNT0pJwvFeCDSgnC+GzVYzc",
      "include_colab_link": true
    },
    "kernelspec": {
      "name": "python3",
      "display_name": "Python 3"
    },
    "language_info": {
      "name": "python"
    }
  },
  "cells": [
    {
      "cell_type": "markdown",
      "metadata": {
        "id": "view-in-github",
        "colab_type": "text"
      },
      "source": [
        "<a href=\"https://colab.research.google.com/github/eliza-puno/58010-DSAA/blob/main/Practice_Lab_Exam.ipynb\" target=\"_parent\"><img src=\"https://colab.research.google.com/assets/colab-badge.svg\" alt=\"Open In Colab\"/></a>"
      ]
    },
    {
      "cell_type": "code",
      "source": [
        "def main():\n",
        "    total_score = 0\n",
        "\n",
        "    while True:\n",
        "        input_number = int(input(\"Enter a test score (Only EVEN number will be added): \"))\n",
        "\n",
        "        if input_number == -1:\n",
        "            break\n",
        "\n",
        "        if input_number % 2 == 0:\n",
        "            total_score += input_number\n",
        "            print(\"Score added:\", input_number)\n",
        "\n",
        "        print(\"Current total score:\", total_score)\n",
        "\n",
        "        add_another = input(\"Do you want to add another test score? (y/n): \")\n",
        "        if add_another.lower() != \"y\":\n",
        "            break\n",
        "\n",
        "    print(\"Final total score:\", total_score)\n",
        "\n",
        "if __name__ == \"__main__\":\n",
        "    main()"
      ],
      "metadata": {
        "colab": {
          "base_uri": "https://localhost:8080/"
        },
        "id": "2w2vASME6Y9v",
        "outputId": "79a68904-b4e9-4420-bdf8-37935866c114"
      },
      "execution_count": 7,
      "outputs": [
        {
          "output_type": "stream",
          "name": "stdout",
          "text": [
            "Enter a test score (Only EVEN number will be added): 26\n",
            "Score added: 26\n",
            "Current total score: 26\n",
            "Do you want to add another test score? (y/n): y\n",
            "Enter a test score (Only EVEN number will be added): 49\n",
            "Current total score: 26\n",
            "Do you want to add another test score? (y/n): y\n",
            "Enter a test score (Only EVEN number will be added): 98\n",
            "Score added: 98\n",
            "Current total score: 124\n",
            "Do you want to add another test score? (y/n): y\n",
            "Enter a test score (Only EVEN number will be added): 87\n",
            "Current total score: 124\n",
            "Do you want to add another test score? (y/n): y\n",
            "Enter a test score (Only EVEN number will be added): 62\n",
            "Score added: 62\n",
            "Current total score: 186\n",
            "Do you want to add another test score? (y/n): y\n",
            "Enter a test score (Only EVEN number will be added): 75\n",
            "Current total score: 186\n",
            "Do you want to add another test score? (y/n): n\n",
            "Final total score: 186\n"
          ]
        }
      ]
    }
  ]
}