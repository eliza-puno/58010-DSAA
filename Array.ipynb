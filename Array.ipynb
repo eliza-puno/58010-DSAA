{
  "nbformat": 4,
  "nbformat_minor": 0,
  "metadata": {
    "colab": {
      "provenance": [],
      "authorship_tag": "ABX9TyPP5gWc11tsf+zAVNHzmFqG",
      "include_colab_link": true
    },
    "kernelspec": {
      "name": "python3",
      "display_name": "Python 3"
    },
    "language_info": {
      "name": "python"
    }
  },
  "cells": [
    {
      "cell_type": "markdown",
      "metadata": {
        "id": "view-in-github",
        "colab_type": "text"
      },
      "source": [
        "<a href=\"https://colab.research.google.com/github/eliza-puno/58010-DSAA/blob/main/Array.ipynb\" target=\"_parent\"><img src=\"https://colab.research.google.com/assets/colab-badge.svg\" alt=\"Open In Colab\"/></a>"
      ]
    },
    {
      "cell_type": "code",
      "execution_count": 3,
      "metadata": {
        "colab": {
          "base_uri": "https://localhost:8080/"
        },
        "id": "tI8lWCCKt-RV",
        "outputId": "f741316e-5f2b-41af-bd31-624142243401"
      },
      "outputs": [
        {
          "output_type": "stream",
          "name": "stdout",
          "text": [
            "cat\n"
          ]
        }
      ],
      "source": [
        "#Accessing the Elements in the Array\n",
        "\n",
        "animals = [\"corgi\" , \"cat\" , \"crab\" , \"monkey\"]\n",
        "\n",
        "x = animals [0]\n",
        "\n",
        "print (x)"
      ]
    },
    {
      "cell_type": "code",
      "source": [
        "#Modifying the Elements in the Array\n",
        "\n",
        "animals = [\"corgi\" , \"cat\" , \"crab\"]\n",
        "\n",
        "animals [0] = \"monkey\"\n",
        "\n",
        "print (x)\n"
      ],
      "metadata": {
        "colab": {
          "base_uri": "https://localhost:8080/"
        },
        "id": "5q5WEl6lvMwx",
        "outputId": "d5f67d52-505f-4c01-bf8b-00bcc993c5b7"
      },
      "execution_count": 8,
      "outputs": [
        {
          "output_type": "stream",
          "name": "stdout",
          "text": [
            "cat\n"
          ]
        }
      ]
    },
    {
      "cell_type": "code",
      "source": [
        "#Length of an Array\n",
        "\n",
        "animals = [\"corgi\" , \"cat\" , \"crab\"]\n",
        "\n",
        "x = len(animals)\n",
        "\n",
        "print (x)"
      ],
      "metadata": {
        "colab": {
          "base_uri": "https://localhost:8080/"
        },
        "id": "0sm7Cgtkvuop",
        "outputId": "e2815c6d-428d-4adf-df70-2f19741d18f5"
      },
      "execution_count": 10,
      "outputs": [
        {
          "output_type": "stream",
          "name": "stdout",
          "text": [
            "3\n"
          ]
        }
      ]
    },
    {
      "cell_type": "code",
      "source": [
        "#Looping Array Elements\n",
        "\n",
        "animals = [\"corgi\" , \"cat\" , \"crab\"]\n",
        "\n",
        "for x in animals:\n",
        "\n",
        " print(x)"
      ],
      "metadata": {
        "colab": {
          "base_uri": "https://localhost:8080/"
        },
        "id": "XY14DbIywxv-",
        "outputId": "fb623631-9f41-40e7-b79b-5a1bb248b532"
      },
      "execution_count": 15,
      "outputs": [
        {
          "output_type": "stream",
          "name": "stdout",
          "text": [
            "corgi\n",
            "cat\n",
            "crab\n"
          ]
        }
      ]
    },
    {
      "cell_type": "code",
      "source": [
        "#Adding Elements in the Array\n",
        "\n",
        "animals = [\"corgi\" , \"cat\" , \"crab\"]\n",
        "\n",
        "animals.append(\"monkey\")\n",
        "\n",
        "print(x)"
      ],
      "metadata": {
        "colab": {
          "base_uri": "https://localhost:8080/"
        },
        "id": "D72J8I3dxKFG",
        "outputId": "4be2fead-9c0f-48b4-c69f-6e1c3a4cb560"
      },
      "execution_count": 16,
      "outputs": [
        {
          "output_type": "stream",
          "name": "stdout",
          "text": [
            "crab\n"
          ]
        }
      ]
    },
    {
      "cell_type": "code",
      "source": [
        "#Removing an Element in the Array\n",
        "\n",
        "animals = [\"corgi\" , \"cat\" , \"crab\"]\n",
        "\n",
        "animals.pop(1)\n",
        "\n",
        "print(animals)"
      ],
      "metadata": {
        "colab": {
          "base_uri": "https://localhost:8080/"
        },
        "id": "0mhIJ4qcxXfF",
        "outputId": "967bd99b-babd-4423-9862-e774fdb24ec0"
      },
      "execution_count": 17,
      "outputs": [
        {
          "output_type": "stream",
          "name": "stdout",
          "text": [
            "['corgi', 'crab']\n"
          ]
        }
      ]
    },
    {
      "cell_type": "code",
      "source": [
        "animals.pop(1)\n",
        "print(animals)\n"
      ],
      "metadata": {
        "colab": {
          "base_uri": "https://localhost:8080/"
        },
        "id": "Q0ObSbVW0RVQ",
        "outputId": "4dc159c2-695f-4b89-ccf3-2c615952ed8f"
      },
      "execution_count": 18,
      "outputs": [
        {
          "output_type": "stream",
          "name": "stdout",
          "text": [
            "['corgi']\n"
          ]
        }
      ]
    },
    {
      "cell_type": "code",
      "source": [
        "#Sorted Animals\n",
        "\n",
        "animals = [\"shihtzu\", \"pusakal\", \"tilapia\", \"monkey\"]\n",
        "sorted_animals = sorted(animals)\n",
        "\n",
        "print(sorted_animals)"
      ],
      "metadata": {
        "colab": {
          "base_uri": "https://localhost:8080/"
        },
        "id": "CuH7Plkh2keM",
        "outputId": "785bd554-576c-44d0-c103-c157db806271"
      },
      "execution_count": 22,
      "outputs": [
        {
          "output_type": "stream",
          "name": "stdout",
          "text": [
            "['monkey', 'pusakal', 'shihtzu', 'tilapia']\n"
          ]
        }
      ]
    }
  ]
}