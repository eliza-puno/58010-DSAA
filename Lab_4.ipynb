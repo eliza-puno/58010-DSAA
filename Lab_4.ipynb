{
  "nbformat": 4,
  "nbformat_minor": 0,
  "metadata": {
    "colab": {
      "provenance": [],
      "authorship_tag": "ABX9TyNWjXqppVzk0Kc8tOXzTJKU",
      "include_colab_link": true
    },
    "kernelspec": {
      "name": "python3",
      "display_name": "Python 3"
    },
    "language_info": {
      "name": "python"
    }
  },
  "cells": [
    {
      "cell_type": "markdown",
      "metadata": {
        "id": "view-in-github",
        "colab_type": "text"
      },
      "source": [
        "<a href=\"https://colab.research.google.com/github/eliza-puno/58010-DSAA/blob/main/Lab_4.ipynb\" target=\"_parent\"><img src=\"https://colab.research.google.com/assets/colab-badge.svg\" alt=\"Open In Colab\"/></a>"
      ]
    },
    {
      "cell_type": "code",
      "source": [
        "import random\n",
        "\n",
        "def sample(n=2):\n",
        "    numbers = []\n",
        "    for i in range(1, n):\n",
        "        numbers.append(i)\n",
        "        numbers.append(random.choice(numbers))\n",
        "    random.shuffle(numbers)\n",
        "    return numbers\n",
        "\n",
        "def find_repeated_element(nums):\n",
        "    # Phase 1 of the cycle detection algorithm\n",
        "    slow = nums[0]\n",
        "    fast = nums[nums[0]]\n",
        "    while slow != fast:\n",
        "        slow = nums[slow]\n",
        "        fast = nums[nums[fast]]\n",
        "\n",
        "    # Phase 2 of the cycle detection algorithm\n",
        "    slow = nums[0]\n",
        "    while slow != fast:\n",
        "        slow = nums[slow]\n",
        "        fast = nums[fast]\n",
        "\n",
        "    return slow\n",
        "\n",
        "# Example usage with the sample function\n",
        "A = sample(5)\n",
        "result = find_repeated_element(A)\n",
        "print(\"The repeated element is:\", result)"
      ],
      "metadata": {
        "colab": {
          "base_uri": "https://localhost:8080/"
        },
        "id": "meXUzNWoZQhY",
        "outputId": "a1a17940-e8f2-4663-c3fc-02ae8e07baf6"
      },
      "execution_count": 2,
      "outputs": [
        {
          "output_type": "stream",
          "name": "stdout",
          "text": [
            "The repeated element is: 1\n"
          ]
        }
      ]
    },
    {
      "cell_type": "code",
      "execution_count": null,
      "metadata": {
        "colab": {
          "base_uri": "https://localhost:8080/"
        },
        "id": "c689JCgsOBCs",
        "outputId": "e8a5419f-90aa-4e63-84b8-44bbdb3374e6"
      },
      "outputs": [
        {
          "output_type": "stream",
          "name": "stdout",
          "text": [
            "Encrypted Message: Zwddg, Ogjdv!\n"
          ]
        }
      ],
      "source": [
        "def caesar_cipher(message, shift):\n",
        "    result = \"\"\n",
        "    for char in message:\n",
        "        if char.isalpha():\n",
        "\n",
        "            is_upper = char.isupper()\n",
        "            ascii_code = ord(char)\n",
        "            shifted_code = (ascii_code - ord('A' if is_upper else 'a') + shift) % 26 + ord('A' if is_upper else 'a')\n",
        "\n",
        "            result += chr(shifted_code)\n",
        "        else:\n",
        "            result += char\n",
        "\n",
        "    return result\n",
        "\n",
        "message = \"Hello, World!\"\n",
        "shift_amount = 1994\n",
        "encrypted_message = caesar_cipher(message, shift_amount)\n",
        "print(\"Encrypted Message:\", encrypted_message)"
      ]
    }
  ]
}