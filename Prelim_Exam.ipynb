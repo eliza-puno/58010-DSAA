{
  "nbformat": 4,
  "nbformat_minor": 0,
  "metadata": {
    "colab": {
      "provenance": [],
      "authorship_tag": "ABX9TyNZUMaHJ7TeURWXbmmAeK+J",
      "include_colab_link": true
    },
    "kernelspec": {
      "name": "python3",
      "display_name": "Python 3"
    },
    "language_info": {
      "name": "python"
    }
  },
  "cells": [
    {
      "cell_type": "markdown",
      "metadata": {
        "id": "view-in-github",
        "colab_type": "text"
      },
      "source": [
        "<a href=\"https://colab.research.google.com/github/eliza-puno/58010-DSAA/blob/main/Prelim_Exam.ipynb\" target=\"_parent\"><img src=\"https://colab.research.google.com/assets/colab-badge.svg\" alt=\"Open In Colab\"/></a>"
      ]
    },
    {
      "cell_type": "code",
      "execution_count": 5,
      "metadata": {
        "colab": {
          "base_uri": "https://localhost:8080/"
        },
        "id": "W5I87oPXWA0A",
        "outputId": "4d702463-6419-4fd8-bda5-fb97dbbd41e8"
      },
      "outputs": [
        {
          "output_type": "stream",
          "name": "stdout",
          "text": [
            "[26, 49, 62, 75, 87, 98]\n"
          ]
        }
      ],
      "source": [
        "t_scores = [26, 49, 98, 87, 62, 75]\n",
        "\n",
        "sort_scores = sorted(t_scores)\n",
        "\n",
        "print(sort_scores)"
      ]
    },
    {
      "cell_type": "code",
      "source": [],
      "metadata": {
        "id": "3KAs73b_W6zi"
      },
      "execution_count": null,
      "outputs": []
    }
  ]
}