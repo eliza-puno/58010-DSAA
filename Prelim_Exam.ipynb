{
  "nbformat": 4,
  "nbformat_minor": 0,
  "metadata": {
    "colab": {
      "provenance": [],
      "authorship_tag": "ABX9TyPgXyLDtF/TH6r/rrFAcoBE",
      "include_colab_link": true
    },
    "kernelspec": {
      "name": "python3",
      "display_name": "Python 3"
    },
    "language_info": {
      "name": "python"
    }
  },
  "cells": [
    {
      "cell_type": "markdown",
      "metadata": {
        "id": "view-in-github",
        "colab_type": "text"
      },
      "source": [
        "<a href=\"https://colab.research.google.com/github/eliza-puno/58010-DSAA/blob/main/Prelim_Exam.ipynb\" target=\"_parent\"><img src=\"https://colab.research.google.com/assets/colab-badge.svg\" alt=\"Open In Colab\"/></a>"
      ]
    },
    {
      "cell_type": "code",
      "execution_count": null,
      "metadata": {
        "colab": {
          "base_uri": "https://localhost:8080/"
        },
        "id": "W5I87oPXWA0A",
        "outputId": "13cad636-7a6d-4596-bd49-1e5af9e1d5d5"
      },
      "outputs": [
        {
          "output_type": "stream",
          "name": "stdout",
          "text": [
            "[26, 49, 62, 75, 87, 98]\n"
          ]
        }
      ],
      "source": [
        "#Open your Python (Pycharm or Colab) or Dev C++ to create the source code for adding the test scores 26, 49, 98, 87, 62, 75 (30 points)\n",
        "\n",
        "t_scores = [26, 49, 98, 87, 62, 75]\n",
        "\n",
        "sort_scores = sorted(t_scores)\n",
        "\n",
        "print(sort_scores)"
      ]
    },
    {
      "cell_type": "code",
      "source": [
        "#Adding the test scores\n",
        "\n",
        "t_scores = [26, 49, 98, 87, 62, 75]\n",
        "\n",
        "total_score = sum(t_scores)\n",
        "\n",
        "print(\"Sum: \", total_score)\n"
      ],
      "metadata": {
        "colab": {
          "base_uri": "https://localhost:8080/"
        },
        "id": "M3wBTwi1im7G",
        "outputId": "a35f46b5-b7aa-4e1f-ac3f-b8fff6381c32"
      },
      "execution_count": 9,
      "outputs": [
        {
          "output_type": "stream",
          "name": "stdout",
          "text": [
            "Sum:  397\n"
          ]
        }
      ]
    }
  ]
}