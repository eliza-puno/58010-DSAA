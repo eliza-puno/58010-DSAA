{
  "nbformat": 4,
  "nbformat_minor": 0,
  "metadata": {
    "colab": {
      "provenance": [],
      "authorship_tag": "ABX9TyMhiaioQQKYe3Eo17w8Odqf",
      "include_colab_link": true
    },
    "kernelspec": {
      "name": "python3",
      "display_name": "Python 3"
    },
    "language_info": {
      "name": "python"
    }
  },
  "cells": [
    {
      "cell_type": "markdown",
      "metadata": {
        "id": "view-in-github",
        "colab_type": "text"
      },
      "source": [
        "<a href=\"https://colab.research.google.com/github/eliza-puno/58010-DSAA/blob/main/Example_01.ipynb\" target=\"_parent\"><img src=\"https://colab.research.google.com/assets/colab-badge.svg\" alt=\"Open In Colab\"/></a>"
      ]
    },
    {
      "cell_type": "code",
      "source": [
        "def rectangle_area(length, width):\n",
        "    area = length * width\n",
        "    return area\n",
        "\n",
        "length = float(input(\"Please enter the length of the rectangle: \"))\n",
        "width = float(input(\"Please enter the width of the rectangle: \"))\n",
        "\n",
        "area = rectangle_area(length, width)\n",
        "print(\"This is the area of rectangle:\", area)"
      ],
      "metadata": {
        "colab": {
          "base_uri": "https://localhost:8080/"
        },
        "id": "xfQvkSS6EaPg",
        "outputId": "1ba2ca33-2197-4d01-cd2f-56a914e2b969"
      },
      "execution_count": null,
      "outputs": [
        {
          "output_type": "stream",
          "name": "stdout",
          "text": [
            "Please enter the length of the rectangle: 211\n",
            "Please enter the width of the rectangle: 555\n",
            "This is the area of rectangle: 117105.0\n"
          ]
        }
      ]
    }
  ]
}