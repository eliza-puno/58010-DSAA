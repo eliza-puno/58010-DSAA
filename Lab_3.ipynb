{
  "nbformat": 4,
  "nbformat_minor": 0,
  "metadata": {
    "colab": {
      "provenance": [],
      "authorship_tag": "ABX9TyN+SeTeqjhmUL1ff49yG+fb",
      "include_colab_link": true
    },
    "kernelspec": {
      "name": "python3",
      "display_name": "Python 3"
    },
    "language_info": {
      "name": "python"
    }
  },
  "cells": [
    {
      "cell_type": "markdown",
      "metadata": {
        "id": "view-in-github",
        "colab_type": "text"
      },
      "source": [
        "<a href=\"https://colab.research.google.com/github/eliza-puno/58010-DSAA/blob/main/Lab_3.ipynb\" target=\"_parent\"><img src=\"https://colab.research.google.com/assets/colab-badge.svg\" alt=\"Open In Colab\"/></a>"
      ]
    },
    {
      "cell_type": "code",
      "execution_count": 1,
      "metadata": {
        "colab": {
          "base_uri": "https://localhost:8080/"
        },
        "id": "l4g69XsHmMLR",
        "outputId": "63c36167-fb93-4bef-b9b4-1ef1ecfbb7fa"
      },
      "outputs": [
        {
          "output_type": "stream",
          "name": "stdout",
          "text": [
            "Sum of Even Test Scores: 186\n"
          ]
        }
      ],
      "source": [
        "def add_even_scores(scores):\n",
        "    total = 0\n",
        "    for score in scores:\n",
        "        if score % 2 == 0:\n",
        "            total += score\n",
        "    return total\n",
        "\n",
        "test_scores = [26, 49, 98, 87, 62, 75]\n",
        "\n",
        "result = add_even_scores(test_scores)\n",
        "\n",
        "print(\"Sum of Even Test Scores:\", result)"
      ]
    }
  ]
}