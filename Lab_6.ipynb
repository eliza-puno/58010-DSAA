{
  "nbformat": 4,
  "nbformat_minor": 0,
  "metadata": {
    "colab": {
      "provenance": [],
      "authorship_tag": "ABX9TyOOMjPb2D7zZcOXHivhZzAc",
      "include_colab_link": true
    },
    "kernelspec": {
      "name": "python3",
      "display_name": "Python 3"
    },
    "language_info": {
      "name": "python"
    }
  },
  "cells": [
    {
      "cell_type": "markdown",
      "metadata": {
        "id": "view-in-github",
        "colab_type": "text"
      },
      "source": [
        "<a href=\"https://colab.research.google.com/github/eliza-puno/58010-DSAA/blob/main/Lab_6.ipynb\" target=\"_parent\"><img src=\"https://colab.research.google.com/assets/colab-badge.svg\" alt=\"Open In Colab\"/></a>"
      ]
    },
    {
      "cell_type": "code",
      "source": [
        "class Node:\n",
        "    def __init__(self, value):\n",
        "        self.value = value\n",
        "        self.next = None\n",
        "        self.prev = None\n",
        "\n",
        "class DoublyLinkedList:\n",
        "    def __init__(self):\n",
        "        self.head = None\n",
        "\n",
        "    def append(self, value):\n",
        "        new_node = Node(value)\n",
        "        if not self.head:\n",
        "            self.head = new_node\n",
        "        else:\n",
        "            cur = self.head\n",
        "            while cur.next:\n",
        "                cur = cur.next\n",
        "            cur.next = new_node\n",
        "            new_node.prev = cur\n",
        "\n",
        "    def move_to_front(self, value):\n",
        "        cur = self.head\n",
        "        while cur:\n",
        "            if cur.value == value:\n",
        "                if cur == self.head:\n",
        "                    return\n",
        "                cur.prev.next = cur.next\n",
        "                if cur.next:\n",
        "                    cur.next.prev = cur.prev\n",
        "                cur.next = self.head\n",
        "                cur.prev = None\n",
        "                self.head.prev = cur\n",
        "                self.head = cur\n",
        "                return\n",
        "            cur = cur.next\n",
        "\n",
        "    def print_reverse(self):\n",
        "        cur = self.head\n",
        "        while cur:\n",
        "            print(cur.value, end=\" \")\n",
        "            cur = cur.next\n",
        "\n",
        "access_sequence = ['a', 'b', 'c', 'd', 'e', 'f']\n",
        "dll = DoublyLinkedList()\n",
        "\n",
        "for value in access_sequence:\n",
        "    dll.append(value)\n",
        "    dll.move_to_front(value)\n",
        "\n",
        "dll.print_reverse()\n",
        "\n"
      ],
      "metadata": {
        "colab": {
          "base_uri": "https://localhost:8080/"
        },
        "id": "42AiZYMD1AKh",
        "outputId": "bae814fd-abb9-46cd-b8b1-c835d411b7ba"
      },
      "execution_count": null,
      "outputs": [
        {
          "output_type": "stream",
          "name": "stdout",
          "text": [
            "f e d c b a "
          ]
        }
      ]
    }
  ]
}