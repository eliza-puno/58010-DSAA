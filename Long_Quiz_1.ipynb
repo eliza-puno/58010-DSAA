{
  "nbformat": 4,
  "nbformat_minor": 0,
  "metadata": {
    "colab": {
      "provenance": [],
      "authorship_tag": "ABX9TyNT+NLquSSAB5NzA7PJjcxU",
      "include_colab_link": true
    },
    "kernelspec": {
      "name": "python3",
      "display_name": "Python 3"
    },
    "language_info": {
      "name": "python"
    }
  },
  "cells": [
    {
      "cell_type": "markdown",
      "metadata": {
        "id": "view-in-github",
        "colab_type": "text"
      },
      "source": [
        "<a href=\"https://colab.research.google.com/github/eliza-puno/58010-DSAA/blob/main/Long_Quiz_1.ipynb\" target=\"_parent\"><img src=\"https://colab.research.google.com/assets/colab-badge.svg\" alt=\"Open In Colab\"/></a>"
      ]
    },
    {
      "cell_type": "code",
      "execution_count": 9,
      "metadata": {
        "colab": {
          "base_uri": "https://localhost:8080/"
        },
        "id": "Xmh3IT1_JsD0",
        "outputId": "305e2239-999b-40a3-80aa-b5f46273f8dd"
      },
      "outputs": [
        {
          "output_type": "stream",
          "name": "stdout",
          "text": [
            "Reverse Order Characters:\n",
            "o\n",
            "n\n",
            "u\n",
            "P\n",
            " \n",
            ".\n",
            "M\n",
            " \n",
            "e\n",
            "i\n",
            "r\n",
            "a\n",
            "M\n",
            " \n",
            "a\n",
            "z\n",
            "i\n",
            "l\n",
            "E\n"
          ]
        }
      ],
      "source": [
        "#1. Create a python or C++ program that appends each character of your full name and displays each character in reverse order (50 points)\n",
        "\n",
        "f_name = \"Eliza Marie M. Puno\"\n",
        "\n",
        "chars = []\n",
        "\n",
        "for char in f_name:\n",
        "    chars.append(char)\n",
        "\n",
        "print(\"Reverse Order Characters:\")\n",
        "for char in reversed(chars):\n",
        "    print(char)"
      ]
    },
    {
      "cell_type": "code",
      "source": [
        "#2. Using the set of positive whole numbers from 1 to 10, create a python or C++ program that displays if it is prime or composite\n",
        "\n",
        "def is_prime(num):\n",
        "    if num <= 1:\n",
        "        return False\n",
        "    return all(num % i != 0 for i in range(2, int(num**0.5) + 1))\n",
        "\n",
        "nums = list(range(1, 11))\n",
        "print(\"P = Prime & C= Composite\")\n",
        "for num in nums:\n",
        "    print(f\"{num} is {'P' if is_prime(num) else 'C'}.\")\n",
        "\n"
      ],
      "metadata": {
        "colab": {
          "base_uri": "https://localhost:8080/"
        },
        "id": "vcrD23YJMCtw",
        "outputId": "8ca47345-375a-45ed-b25d-708550e3c1b7"
      },
      "execution_count": 12,
      "outputs": [
        {
          "output_type": "stream",
          "name": "stdout",
          "text": [
            "P = Prime & C= Composite\n",
            "1 is C.\n",
            "2 is P.\n",
            "3 is P.\n",
            "4 is C.\n",
            "5 is P.\n",
            "6 is C.\n",
            "7 is P.\n",
            "8 is C.\n",
            "9 is C.\n",
            "10 is C.\n"
          ]
        }
      ]
    }
  ]
}