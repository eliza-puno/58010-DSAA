{
  "nbformat": 4,
  "nbformat_minor": 0,
  "metadata": {
    "colab": {
      "provenance": [],
      "authorship_tag": "ABX9TyOdbnImVhgfTYjtYL0d3vyR",
      "include_colab_link": true
    },
    "kernelspec": {
      "name": "python3",
      "display_name": "Python 3"
    },
    "language_info": {
      "name": "python"
    }
  },
  "cells": [
    {
      "cell_type": "markdown",
      "metadata": {
        "id": "view-in-github",
        "colab_type": "text"
      },
      "source": [
        "<a href=\"https://colab.research.google.com/github/eliza-puno/58010-DSAA/blob/main/Long_Quiz_1.ipynb\" target=\"_parent\"><img src=\"https://colab.research.google.com/assets/colab-badge.svg\" alt=\"Open In Colab\"/></a>"
      ]
    },
    {
      "cell_type": "code",
      "execution_count": 9,
      "metadata": {
        "colab": {
          "base_uri": "https://localhost:8080/"
        },
        "id": "Xmh3IT1_JsD0",
        "outputId": "305e2239-999b-40a3-80aa-b5f46273f8dd"
      },
      "outputs": [
        {
          "output_type": "stream",
          "name": "stdout",
          "text": [
            "Reverse Order Characters:\n",
            "o\n",
            "n\n",
            "u\n",
            "P\n",
            " \n",
            ".\n",
            "M\n",
            " \n",
            "e\n",
            "i\n",
            "r\n",
            "a\n",
            "M\n",
            " \n",
            "a\n",
            "z\n",
            "i\n",
            "l\n",
            "E\n"
          ]
        }
      ],
      "source": [
        "#1. Create a python or C++ program that appends each character of your full name and displays each character in reverse order (50 points)\n",
        "\n",
        "f_name = \"Eliza Marie M. Puno\"\n",
        "\n",
        "chars = []\n",
        "\n",
        "for char in f_name:\n",
        "    chars.append(char)\n",
        "\n",
        "print(\"Reverse Order Characters:\")\n",
        "for char in reversed(chars):\n",
        "    print(char)"
      ]
    },
    {
      "cell_type": "code",
      "source": [
        "#2. Using the set of positive whole numbers from 1 to 10, create a python or C++ program that displays if it is prime or composite\n",
        "\n",
        "def is_prime(num):\n",
        "    if num <= 1:\n",
        "        return False\n",
        "    return all(num % i != 0 for i in range(2, int(num**0.5) + 1))\n",
        "\n",
        "nums = list(range(1, 11))\n",
        "\n",
        "for num in nums:\n",
        "    print(f\"{num} is {'prime' if is_prime(num) else 'composite'}.\")\n"
      ],
      "metadata": {
        "colab": {
          "base_uri": "https://localhost:8080/"
        },
        "id": "vcrD23YJMCtw",
        "outputId": "a66f6685-f5ff-413d-c465-fe31a5932c2e"
      },
      "execution_count": 8,
      "outputs": [
        {
          "output_type": "stream",
          "name": "stdout",
          "text": [
            "1 is composite.\n",
            "2 is prime.\n",
            "3 is prime.\n",
            "4 is composite.\n",
            "5 is prime.\n",
            "6 is composite.\n",
            "7 is prime.\n",
            "8 is composite.\n",
            "9 is composite.\n",
            "10 is composite.\n"
          ]
        }
      ]
    }
  ]
}