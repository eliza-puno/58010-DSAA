{
  "nbformat": 4,
  "nbformat_minor": 0,
  "metadata": {
    "colab": {
      "provenance": [],
      "authorship_tag": "ABX9TyMtfyo5lX4EmgsJaMwq0hnw",
      "include_colab_link": true
    },
    "kernelspec": {
      "name": "python3",
      "display_name": "Python 3"
    },
    "language_info": {
      "name": "python"
    }
  },
  "cells": [
    {
      "cell_type": "markdown",
      "metadata": {
        "id": "view-in-github",
        "colab_type": "text"
      },
      "source": [
        "<a href=\"https://colab.research.google.com/github/eliza-puno/58010-DSAA/blob/main/DSA_Lab_2.ipynb\" target=\"_parent\"><img src=\"https://colab.research.google.com/assets/colab-badge.svg\" alt=\"Open In Colab\"/></a>"
      ]
    },
    {
      "cell_type": "code",
      "execution_count": 1,
      "metadata": {
        "colab": {
          "base_uri": "https://localhost:8080/"
        },
        "id": "-8CLRR0ee3zT",
        "outputId": "ef25ea33-b296-4f8a-a1a0-1ef237bdf8f4"
      },
      "outputs": [
        {
          "output_type": "stream",
          "name": "stdout",
          "text": [
            "Enter the value of x: 2\n",
            "f(x) = 2.0\n"
          ]
        }
      ],
      "source": [
        "def find_fx(x):\n",
        "    if x < 0:\n",
        "        return -x\n",
        "    else:\n",
        "        return x\n",
        "\n",
        "x = float(input(\"Enter the value of x: \"))\n",
        "\n",
        "result = find_fx(x)\n",
        "print(\"f(x) =\", result)"
      ]
    },
    {
      "cell_type": "code",
      "source": [
        "def find_min_max_recursive(seq, index=0, min_val=None, max_val=None):\n",
        "\n",
        "    if index == len(seq):\n",
        "        return min_val, max_val\n",
        "\n",
        "    current_value = seq[index]\n",
        "\n",
        "\n",
        "    if min_val is None or current_value < min_val:\n",
        "        min_val = current_value\n",
        "    if max_val is None or current_value > max_val:\n",
        "        max_val = current_value\n",
        "\n",
        "\n",
        "    return find_min_max_recursive(seq, index + 1, min_val, max_val)\n",
        "\n",
        "user_input = input(\"Enter a sequence of numbers separated by spaces: \")\n",
        "sequence = [int(x) for x in user_input.split()]\n",
        "\n",
        "min_val, max_val = find_min_max_recursive(sequence)\n",
        "\n",
        "print(\"Minimum value:\", min_val)\n",
        "print(\"Maximum value:\", max_val)"
      ],
      "metadata": {
        "colab": {
          "base_uri": "https://localhost:8080/"
        },
        "id": "5qPy3Eiph1Mt",
        "outputId": "bc5ddc29-f0de-4869-9c3f-097e1c62c0a2"
      },
      "execution_count": 3,
      "outputs": [
        {
          "output_type": "stream",
          "name": "stdout",
          "text": [
            "Enter a sequence of numbers separated by spaces: 3 9\n",
            "Minimum value: 3\n",
            "Maximum value: 9\n"
          ]
        }
      ]
    }
  ]
}